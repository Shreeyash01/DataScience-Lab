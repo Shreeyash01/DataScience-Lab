{
 "cells": [
  {
   "cell_type": "code",
   "execution_count": 3,
   "metadata": {},
   "outputs": [],
   "source": [
    "# Descriptive Statistics - Measures of Central Tendency and variability\n",
    "import numpy as np\n",
    "import pandas as pd"
   ]
  },
  {
   "cell_type": "code",
   "execution_count": 4,
   "metadata": {},
   "outputs": [
    {
     "data": {
      "text/html": [
       "<div>\n",
       "<style scoped>\n",
       "    .dataframe tbody tr th:only-of-type {\n",
       "        vertical-align: middle;\n",
       "    }\n",
       "\n",
       "    .dataframe tbody tr th {\n",
       "        vertical-align: top;\n",
       "    }\n",
       "\n",
       "    .dataframe thead th {\n",
       "        text-align: right;\n",
       "    }\n",
       "</style>\n",
       "<table border=\"1\" class=\"dataframe\">\n",
       "  <thead>\n",
       "    <tr style=\"text-align: right;\">\n",
       "      <th></th>\n",
       "      <th>Age</th>\n",
       "      <th>Income</th>\n",
       "    </tr>\n",
       "  </thead>\n",
       "  <tbody>\n",
       "    <tr>\n",
       "      <th>0</th>\n",
       "      <td>Young</td>\n",
       "      <td>25000</td>\n",
       "    </tr>\n",
       "    <tr>\n",
       "      <th>1</th>\n",
       "      <td>Middle Age</td>\n",
       "      <td>54000</td>\n",
       "    </tr>\n",
       "    <tr>\n",
       "      <th>2</th>\n",
       "      <td>Old</td>\n",
       "      <td>60000</td>\n",
       "    </tr>\n",
       "    <tr>\n",
       "      <th>3</th>\n",
       "      <td>Young</td>\n",
       "      <td>15000</td>\n",
       "    </tr>\n",
       "    <tr>\n",
       "      <th>4</th>\n",
       "      <td>Young</td>\n",
       "      <td>45000</td>\n",
       "    </tr>\n",
       "    <tr>\n",
       "      <th>5</th>\n",
       "      <td>Young</td>\n",
       "      <td>65000</td>\n",
       "    </tr>\n",
       "    <tr>\n",
       "      <th>6</th>\n",
       "      <td>Young</td>\n",
       "      <td>70000</td>\n",
       "    </tr>\n",
       "    <tr>\n",
       "      <th>7</th>\n",
       "      <td>Young</td>\n",
       "      <td>30000</td>\n",
       "    </tr>\n",
       "    <tr>\n",
       "      <th>8</th>\n",
       "      <td>Middle Age</td>\n",
       "      <td>27000</td>\n",
       "    </tr>\n",
       "    <tr>\n",
       "      <th>9</th>\n",
       "      <td>Young</td>\n",
       "      <td>23000</td>\n",
       "    </tr>\n",
       "  </tbody>\n",
       "</table>\n",
       "</div>"
      ],
      "text/plain": [
       "          Age  Income\n",
       "0       Young   25000\n",
       "1  Middle Age   54000\n",
       "2         Old   60000\n",
       "3       Young   15000\n",
       "4       Young   45000\n",
       "5       Young   65000\n",
       "6       Young   70000\n",
       "7       Young   30000\n",
       "8  Middle Age   27000\n",
       "9       Young   23000"
      ]
     },
     "execution_count": 4,
     "metadata": {},
     "output_type": "execute_result"
    }
   ],
   "source": [
    "df=pd.read_excel('Age-Income-Dataset.xlsx')\n",
    "df.head(10)"
   ]
  },
  {
   "cell_type": "code",
   "execution_count": 11,
   "metadata": {},
   "outputs": [],
   "source": [
    "grouped_data = df.groupby(['Age'])"
   ]
  },
  {
   "cell_type": "code",
   "execution_count": 13,
   "metadata": {},
   "outputs": [
    {
     "data": {
      "text/html": [
       "<div>\n",
       "<style scoped>\n",
       "    .dataframe tbody tr th:only-of-type {\n",
       "        vertical-align: middle;\n",
       "    }\n",
       "\n",
       "    .dataframe tbody tr th {\n",
       "        vertical-align: top;\n",
       "    }\n",
       "\n",
       "    .dataframe thead tr th {\n",
       "        text-align: left;\n",
       "    }\n",
       "\n",
       "    .dataframe thead tr:last-of-type th {\n",
       "        text-align: right;\n",
       "    }\n",
       "</style>\n",
       "<table border=\"1\" class=\"dataframe\">\n",
       "  <thead>\n",
       "    <tr>\n",
       "      <th></th>\n",
       "      <th colspan=\"8\" halign=\"left\">Income</th>\n",
       "    </tr>\n",
       "    <tr>\n",
       "      <th></th>\n",
       "      <th>count</th>\n",
       "      <th>mean</th>\n",
       "      <th>std</th>\n",
       "      <th>min</th>\n",
       "      <th>25%</th>\n",
       "      <th>50%</th>\n",
       "      <th>75%</th>\n",
       "      <th>max</th>\n",
       "    </tr>\n",
       "    <tr>\n",
       "      <th>Age</th>\n",
       "      <th></th>\n",
       "      <th></th>\n",
       "      <th></th>\n",
       "      <th></th>\n",
       "      <th></th>\n",
       "      <th></th>\n",
       "      <th></th>\n",
       "      <th></th>\n",
       "    </tr>\n",
       "  </thead>\n",
       "  <tbody>\n",
       "    <tr>\n",
       "      <th>Middle Age</th>\n",
       "      <td>15.0</td>\n",
       "      <td>52453.333333</td>\n",
       "      <td>20497.800114</td>\n",
       "      <td>25600.0</td>\n",
       "      <td>36900.0</td>\n",
       "      <td>53200.0</td>\n",
       "      <td>61200.0</td>\n",
       "      <td>93000.0</td>\n",
       "    </tr>\n",
       "    <tr>\n",
       "      <th>Old</th>\n",
       "      <td>19.0</td>\n",
       "      <td>53942.105263</td>\n",
       "      <td>20868.165968</td>\n",
       "      <td>24500.0</td>\n",
       "      <td>38700.0</td>\n",
       "      <td>45300.0</td>\n",
       "      <td>71400.0</td>\n",
       "      <td>89700.0</td>\n",
       "    </tr>\n",
       "    <tr>\n",
       "      <th>Young</th>\n",
       "      <td>16.0</td>\n",
       "      <td>46037.500000</td>\n",
       "      <td>22356.859499</td>\n",
       "      <td>15000.0</td>\n",
       "      <td>28750.0</td>\n",
       "      <td>41500.0</td>\n",
       "      <td>65850.0</td>\n",
       "      <td>87000.0</td>\n",
       "    </tr>\n",
       "  </tbody>\n",
       "</table>\n",
       "</div>"
      ],
      "text/plain": [
       "           Income                                                         \\\n",
       "            count          mean           std      min      25%      50%   \n",
       "Age                                                                        \n",
       "Middle Age   15.0  52453.333333  20497.800114  25600.0  36900.0  53200.0   \n",
       "Old          19.0  53942.105263  20868.165968  24500.0  38700.0  45300.0   \n",
       "Young        16.0  46037.500000  22356.859499  15000.0  28750.0  41500.0   \n",
       "\n",
       "                              \n",
       "                75%      max  \n",
       "Age                           \n",
       "Middle Age  61200.0  93000.0  \n",
       "Old         71400.0  89700.0  \n",
       "Young       65850.0  87000.0  "
      ]
     },
     "execution_count": 13,
     "metadata": {},
     "output_type": "execute_result"
    }
   ],
   "source": [
    "grouped_data.describe()"
   ]
  },
  {
   "cell_type": "code",
   "execution_count": 15,
   "metadata": {},
   "outputs": [
    {
     "data": {
      "text/plain": [
       "Age\n",
       "Middle Age    53200.0\n",
       "Old           45300.0\n",
       "Young         41500.0\n",
       "Name: Income, dtype: float64"
      ]
     },
     "execution_count": 15,
     "metadata": {},
     "output_type": "execute_result"
    }
   ],
   "source": [
    "mean_income = grouped_data['Income'].median()\n",
    "mean_income"
   ]
  },
  {
   "cell_type": "code",
   "execution_count": 45,
   "metadata": {},
   "outputs": [
    {
     "data": {
      "text/plain": [
       "count       16.000000\n",
       "mean     46037.500000\n",
       "std      22356.859499\n",
       "min      15000.000000\n",
       "25%      28750.000000\n",
       "50%      41500.000000\n",
       "75%      65850.000000\n",
       "max      87000.000000\n",
       "Name: Income, dtype: float64"
      ]
     },
     "execution_count": 45,
     "metadata": {},
     "output_type": "execute_result"
    }
   ],
   "source": [
    "grouped_data['Income'].get_group('Young').describe()"
   ]
  },
  {
   "cell_type": "code",
   "execution_count": 16,
   "metadata": {},
   "outputs": [
    {
     "name": "stdout",
     "output_type": "stream",
     "text": [
      "Summary statistics for Young age group:\n",
      "Mean: 46037.50\n",
      "Median: 41500.00\n",
      "Minimum: 15000.00\n",
      "Maximum: 87000.00\n",
      "Standard Deviation: 22356.86\n",
      "\n",
      "Summary statistics for Middle Age age group:\n",
      "Mean: 52453.33\n",
      "Median: 53200.00\n",
      "Minimum: 25600.00\n",
      "Maximum: 93000.00\n",
      "Standard Deviation: 20497.80\n",
      "\n",
      "Summary statistics for Old age group:\n",
      "Mean: 53942.11\n",
      "Median: 45300.00\n",
      "Minimum: 24500.00\n",
      "Maximum: 89700.00\n",
      "Standard Deviation: 20868.17\n",
      "\n"
     ]
    }
   ],
   "source": [
    "mean_income = grouped_data['Income'].mean()\n",
    "median_income = grouped_data['Income'].median()\n",
    "min_income = grouped_data['Income'].min()\n",
    "max_income = grouped_data['Income'].max()\n",
    "std_dev_income = grouped_data['Income'].std()\n",
    "\n",
    "age_groups = df['Age'].unique().tolist()\n",
    "for age in age_groups:\n",
    "    print(f\"Summary statistics for {age} age group:\")\n",
    "    print(f\"Mean: {mean_income[age]:.2f}\")\n",
    "    print(f\"Median: {median_income[age]:.2f}\")\n",
    "    print(f\"Minimum: {min_income[age]:.2f}\")\n",
    "    print(f\"Maximum: {max_income[age]:.2f}\")\n",
    "    print(f\"Standard Deviation: {std_dev_income[age]:.2f}\")\n",
    "    print()"
   ]
  },
  {
   "cell_type": "code",
   "execution_count": 17,
   "metadata": {},
   "outputs": [
    {
     "data": {
      "text/html": [
       "<div>\n",
       "<style scoped>\n",
       "    .dataframe tbody tr th:only-of-type {\n",
       "        vertical-align: middle;\n",
       "    }\n",
       "\n",
       "    .dataframe tbody tr th {\n",
       "        vertical-align: top;\n",
       "    }\n",
       "\n",
       "    .dataframe thead th {\n",
       "        text-align: right;\n",
       "    }\n",
       "</style>\n",
       "<table border=\"1\" class=\"dataframe\">\n",
       "  <thead>\n",
       "    <tr style=\"text-align: right;\">\n",
       "      <th></th>\n",
       "      <th>Age</th>\n",
       "      <th>Income</th>\n",
       "    </tr>\n",
       "  </thead>\n",
       "  <tbody>\n",
       "    <tr>\n",
       "      <th>0</th>\n",
       "      <td>1</td>\n",
       "      <td>25000</td>\n",
       "    </tr>\n",
       "    <tr>\n",
       "      <th>1</th>\n",
       "      <td>2</td>\n",
       "      <td>54000</td>\n",
       "    </tr>\n",
       "    <tr>\n",
       "      <th>2</th>\n",
       "      <td>3</td>\n",
       "      <td>60000</td>\n",
       "    </tr>\n",
       "    <tr>\n",
       "      <th>3</th>\n",
       "      <td>1</td>\n",
       "      <td>15000</td>\n",
       "    </tr>\n",
       "    <tr>\n",
       "      <th>4</th>\n",
       "      <td>1</td>\n",
       "      <td>45000</td>\n",
       "    </tr>\n",
       "    <tr>\n",
       "      <th>5</th>\n",
       "      <td>1</td>\n",
       "      <td>65000</td>\n",
       "    </tr>\n",
       "    <tr>\n",
       "      <th>6</th>\n",
       "      <td>1</td>\n",
       "      <td>70000</td>\n",
       "    </tr>\n",
       "    <tr>\n",
       "      <th>7</th>\n",
       "      <td>1</td>\n",
       "      <td>30000</td>\n",
       "    </tr>\n",
       "    <tr>\n",
       "      <th>8</th>\n",
       "      <td>2</td>\n",
       "      <td>27000</td>\n",
       "    </tr>\n",
       "    <tr>\n",
       "      <th>9</th>\n",
       "      <td>1</td>\n",
       "      <td>23000</td>\n",
       "    </tr>\n",
       "  </tbody>\n",
       "</table>\n",
       "</div>"
      ],
      "text/plain": [
       "   Age  Income\n",
       "0    1   25000\n",
       "1    2   54000\n",
       "2    3   60000\n",
       "3    1   15000\n",
       "4    1   45000\n",
       "5    1   65000\n",
       "6    1   70000\n",
       "7    1   30000\n",
       "8    2   27000\n",
       "9    1   23000"
      ]
     },
     "execution_count": 17,
     "metadata": {},
     "output_type": "execute_result"
    }
   ],
   "source": [
    "df.Age.replace(['Young','Middle Age','Old'],[1,2,3],inplace=True)\n",
    "df.head(10)"
   ]
  },
  {
   "cell_type": "code",
   "execution_count": 8,
   "metadata": {},
   "outputs": [
    {
     "name": "stdout",
     "output_type": "stream",
     "text": [
      "50966.0\n"
     ]
    }
   ],
   "source": [
    "# without library functions\n",
    "mean_income = sum(df['Income'])/len(df['Income'])\n",
    "mean_income"
   ]
  },
  {
   "cell_type": "code",
   "execution_count": 10,
   "metadata": {},
   "outputs": [
    {
     "data": {
      "text/plain": [
       "46850.0"
      ]
     },
     "execution_count": 10,
     "metadata": {},
     "output_type": "execute_result"
    }
   ],
   "source": [
    "sorted_data = sorted(df['Income'])\n",
    "n=len(sorted_data)\n",
    "if n%2==0 :\n",
    "    median = (sorted_data[n//2 -1] + sorted_data[n//2])/2\n",
    "else:\n",
    "    median = sorted_data[n//2]\n",
    "median"
   ]
  },
  {
   "cell_type": "code",
   "execution_count": 13,
   "metadata": {},
   "outputs": [
    {
     "data": {
      "text/plain": [
       "45000"
      ]
     },
     "execution_count": 13,
     "metadata": {},
     "output_type": "execute_result"
    }
   ],
   "source": [
    "income=[]\n",
    "for i in df.Income:\n",
    "    income.append(i)\n",
    "income.append(45000)\n",
    "income.append(45000)\n",
    "income.append(45000)\n",
    "mode=max((income.count(item),item) for item in set(income))[1]\n",
    "mode"
   ]
  },
  {
   "cell_type": "code",
   "execution_count": 14,
   "metadata": {},
   "outputs": [],
   "source": [
    "data=df['Income']\n",
    "deviations = [(x-mean_income)**2 for x in data]\n",
    "variance = sum(deviations)/len(data)\n",
    "standard_deviation = variance**0.5"
   ]
  },
  {
   "cell_type": "code",
   "execution_count": 15,
   "metadata": {},
   "outputs": [
    {
     "name": "stdout",
     "output_type": "stream",
     "text": [
      "variance :  436168644.0\n",
      "standard deviation :  20884.6509187968\n"
     ]
    }
   ],
   "source": [
    "print('variance : ',variance)\n",
    "print('standard deviation : ',standard_deviation)"
   ]
  },
  {
   "cell_type": "code",
   "execution_count": null,
   "metadata": {},
   "outputs": [],
   "source": []
  }
 ],
 "metadata": {
  "kernelspec": {
   "display_name": "Python 3",
   "language": "python",
   "name": "python3"
  },
  "language_info": {
   "codemirror_mode": {
    "name": "ipython",
    "version": 3
   },
   "file_extension": ".py",
   "mimetype": "text/x-python",
   "name": "python",
   "nbconvert_exporter": "python",
   "pygments_lexer": "ipython3",
   "version": "3.11.0"
  },
  "orig_nbformat": 4
 },
 "nbformat": 4,
 "nbformat_minor": 2
}
