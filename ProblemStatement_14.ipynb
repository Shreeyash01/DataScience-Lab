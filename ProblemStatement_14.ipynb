{
 "cells": [
  {
   "cell_type": "code",
   "execution_count": 32,
   "metadata": {},
   "outputs": [
    {
     "data": {
      "text/html": [
       "<div>\n",
       "<style scoped>\n",
       "    .dataframe tbody tr th:only-of-type {\n",
       "        vertical-align: middle;\n",
       "    }\n",
       "\n",
       "    .dataframe tbody tr th {\n",
       "        vertical-align: top;\n",
       "    }\n",
       "\n",
       "    .dataframe thead th {\n",
       "        text-align: right;\n",
       "    }\n",
       "</style>\n",
       "<table border=\"1\" class=\"dataframe\">\n",
       "  <thead>\n",
       "    <tr style=\"text-align: right;\">\n",
       "      <th></th>\n",
       "      <th>rating</th>\n",
       "      <th>date</th>\n",
       "      <th>variation</th>\n",
       "      <th>verified_reviews</th>\n",
       "      <th>feedback</th>\n",
       "    </tr>\n",
       "  </thead>\n",
       "  <tbody>\n",
       "    <tr>\n",
       "      <th>0</th>\n",
       "      <td>5</td>\n",
       "      <td>31-Jul-18</td>\n",
       "      <td>Charcoal Fabric</td>\n",
       "      <td>Love my Echo!</td>\n",
       "      <td>1</td>\n",
       "    </tr>\n",
       "    <tr>\n",
       "      <th>1</th>\n",
       "      <td>5</td>\n",
       "      <td>31-Jul-18</td>\n",
       "      <td>Charcoal Fabric</td>\n",
       "      <td>Loved it!</td>\n",
       "      <td>1</td>\n",
       "    </tr>\n",
       "    <tr>\n",
       "      <th>2</th>\n",
       "      <td>4</td>\n",
       "      <td>31-Jul-18</td>\n",
       "      <td>Walnut Finish</td>\n",
       "      <td>Sometimes while playing a game, you can answer a question correctly but Alexa says you got it wrong and answers the same as you.  I like being able to turn lights on and off while away from home.</td>\n",
       "      <td>1</td>\n",
       "    </tr>\n",
       "    <tr>\n",
       "      <th>3</th>\n",
       "      <td>5</td>\n",
       "      <td>31-Jul-18</td>\n",
       "      <td>Charcoal Fabric</td>\n",
       "      <td>I have had a lot of fun with this thing. My 4 yr old learns about dinosaurs, i control the lights and play games like categories. Has nice sound when playing music as well.</td>\n",
       "      <td>1</td>\n",
       "    </tr>\n",
       "    <tr>\n",
       "      <th>4</th>\n",
       "      <td>5</td>\n",
       "      <td>31-Jul-18</td>\n",
       "      <td>Charcoal Fabric</td>\n",
       "      <td>Music</td>\n",
       "      <td>1</td>\n",
       "    </tr>\n",
       "    <tr>\n",
       "      <th>5</th>\n",
       "      <td>5</td>\n",
       "      <td>31-Jul-18</td>\n",
       "      <td>Heather Gray Fabric</td>\n",
       "      <td>I received the echo as a gift. I needed another Bluetooth or something to play music easily accessible, and found this smart speaker. Can’t wait to see what else it can do.</td>\n",
       "      <td>1</td>\n",
       "    </tr>\n",
       "    <tr>\n",
       "      <th>6</th>\n",
       "      <td>3</td>\n",
       "      <td>31-Jul-18</td>\n",
       "      <td>Sandstone Fabric</td>\n",
       "      <td>Without having a cellphone, I cannot use many of her features. I have an iPad but do not see that of any use.  It IS a great alarm.  If u r almost deaf, you can hear her alarm in the bedroom from out in the living room, so that is reason enough to keep her.It is fun to ask random questions to hear her response.  She does not seem to be very smartbon politics yet.</td>\n",
       "      <td>1</td>\n",
       "    </tr>\n",
       "    <tr>\n",
       "      <th>7</th>\n",
       "      <td>5</td>\n",
       "      <td>31-Jul-18</td>\n",
       "      <td>Charcoal Fabric</td>\n",
       "      <td>I think this is the 5th one I've purchased. I'm working on getting one in every room of my house. I really like what features they offer specifily playing music on all Echos and controlling the lights throughout my house.</td>\n",
       "      <td>1</td>\n",
       "    </tr>\n",
       "    <tr>\n",
       "      <th>8</th>\n",
       "      <td>5</td>\n",
       "      <td>30-Jul-18</td>\n",
       "      <td>Heather Gray Fabric</td>\n",
       "      <td>looks great</td>\n",
       "      <td>1</td>\n",
       "    </tr>\n",
       "    <tr>\n",
       "      <th>9</th>\n",
       "      <td>5</td>\n",
       "      <td>30-Jul-18</td>\n",
       "      <td>Heather Gray Fabric</td>\n",
       "      <td>Love it! I’ve listened to songs I haven’t heard since childhood! I get the news, weather, information! It’s great!</td>\n",
       "      <td>1</td>\n",
       "    </tr>\n",
       "  </tbody>\n",
       "</table>\n",
       "</div>"
      ],
      "text/plain": [
       "   rating       date             variation  \\\n",
       "0       5  31-Jul-18      Charcoal Fabric    \n",
       "1       5  31-Jul-18      Charcoal Fabric    \n",
       "2       4  31-Jul-18        Walnut Finish    \n",
       "3       5  31-Jul-18      Charcoal Fabric    \n",
       "4       5  31-Jul-18      Charcoal Fabric    \n",
       "5       5  31-Jul-18  Heather Gray Fabric    \n",
       "6       3  31-Jul-18     Sandstone Fabric    \n",
       "7       5  31-Jul-18      Charcoal Fabric    \n",
       "8       5  30-Jul-18  Heather Gray Fabric    \n",
       "9       5  30-Jul-18  Heather Gray Fabric    \n",
       "\n",
       "                                                                                                                                                                                                                                                                                                                                                                verified_reviews  \\\n",
       "0                                                                                                                                                                                                                                                                                                                                                                  Love my Echo!   \n",
       "1                                                                                                                                                                                                                                                                                                                                                                      Loved it!   \n",
       "2                                                                                                                                                                            Sometimes while playing a game, you can answer a question correctly but Alexa says you got it wrong and answers the same as you.  I like being able to turn lights on and off while away from home.   \n",
       "3                                                                                                                                                                                                   I have had a lot of fun with this thing. My 4 yr old learns about dinosaurs, i control the lights and play games like categories. Has nice sound when playing music as well.   \n",
       "4                                                                                                                                                                                                                                                                                                                                                                          Music   \n",
       "5                                                                                                                                                                                                   I received the echo as a gift. I needed another Bluetooth or something to play music easily accessible, and found this smart speaker. Can’t wait to see what else it can do.   \n",
       "6  Without having a cellphone, I cannot use many of her features. I have an iPad but do not see that of any use.  It IS a great alarm.  If u r almost deaf, you can hear her alarm in the bedroom from out in the living room, so that is reason enough to keep her.It is fun to ask random questions to hear her response.  She does not seem to be very smartbon politics yet.   \n",
       "7                                                                                                                                                  I think this is the 5th one I've purchased. I'm working on getting one in every room of my house. I really like what features they offer specifily playing music on all Echos and controlling the lights throughout my house.   \n",
       "8                                                                                                                                                                                                                                                                                                                                                                    looks great   \n",
       "9                                                                                                                                                                                                                                                             Love it! I’ve listened to songs I haven’t heard since childhood! I get the news, weather, information! It’s great!   \n",
       "\n",
       "   feedback  \n",
       "0         1  \n",
       "1         1  \n",
       "2         1  \n",
       "3         1  \n",
       "4         1  \n",
       "5         1  \n",
       "6         1  \n",
       "7         1  \n",
       "8         1  \n",
       "9         1  "
      ]
     },
     "execution_count": 32,
     "metadata": {},
     "output_type": "execute_result"
    }
   ],
   "source": [
    "import pandas as pd\n",
    "df=pd.read_csv('AmazonAlexa_Reviews.csv')\n",
    "pd.set_option('display.max_colwidth',None)\n",
    "df.head(10)"
   ]
  },
  {
   "cell_type": "code",
   "execution_count": 33,
   "metadata": {},
   "outputs": [
    {
     "data": {
      "text/plain": [
       "0                                                                                                                                                                                                                                                                                                                                                            love my echo\n",
       "1                                                                                                                                                                                                                                                                                                                                                                loved it\n",
       "2                                                                                                                                                                        sometimes while playing a game you can answer a question correctly but alexa says you got it wrong and answers the same as you  i like being able to turn lights on and off while away from home\n",
       "3                                                                                                                                                                                                i have had a lot of fun with this thing my 4 yr old learns about dinosaurs i control the lights and play games like categories has nice sound when playing music as well\n",
       "4                                                                                                                                                                                                                                                                                                                                                                   music\n",
       "5                                                                                                                                                                                                i received the echo as a gift i needed another bluetooth or something to play music easily accessible and found this smart speaker can’t wait to see what else it can do\n",
       "6    without having a cellphone i cannot use many of her features i have an ipad but do not see that of any use  it is a great alarm  if u r almost deaf you can hear her alarm in the bedroom from out in the living room so that is reason enough to keep herit is fun to ask random questions to hear her response  she does not seem to be very smartbon politics yet\n",
       "7                                                                                                                                                i think this is the 5th one ive purchased im working on getting one in every room of my house i really like what features they offer specifily playing music on all echos and controlling the lights throughout my house\n",
       "8                                                                                                                                                                                                                                                                                                                                                             looks great\n",
       "9                                                                                                                                                                                                                                                            love it i’ve listened to songs i haven’t heard since childhood i get the news weather information it’s great\n",
       "Name: clean_r, dtype: object"
      ]
     },
     "execution_count": 33,
     "metadata": {},
     "output_type": "execute_result"
    }
   ],
   "source": [
    "import string\n",
    "string.punctuation\n",
    "\n",
    "def r_punc(text):\n",
    "    text=''.join([x for x in text if x not in string.punctuation])\n",
    "    return text\n",
    "\n",
    "df['clean_r']=df['verified_reviews'].apply(lambda x: r_punc(x.lower()))\n",
    "df['clean_r'].head(10)"
   ]
  },
  {
   "cell_type": "code",
   "execution_count": 34,
   "metadata": {},
   "outputs": [
    {
     "data": {
      "text/plain": [
       "0                                                                                                                                                                                                                                                                                                                                                                                                                                                                                                                  [love, my, echo]\n",
       "1                                                                                                                                                                                                                                                                                                                                                                                                                                                                                                                       [loved, it]\n",
       "2                                                                                                                                                                                                                                                                                            [sometimes, while, playing, a, game, you, can, answer, a, question, correctly, but, alexa, says, you, got, it, wrong, and, answers, the, same, as, you, i, like, being, able, to, turn, lights, on, and, off, while, away, from, home]\n",
       "3                                                                                                                                                                                                                                                                                                                       [i, have, had, a, lot, of, fun, with, this, thing, my, 4, yr, old, learns, about, dinosaurs, i, control, the, lights, and, play, games, like, categories, has, nice, sound, when, playing, music, as, well]\n",
       "4                                                                                                                                                                                                                                                                                                                                                                                                                                                                                                                           [music]\n",
       "                                                                                                                                                                                                                                                                   ...                                                                                                                                                                                                                                                             \n",
       "3145                                                                                                                                                                                                                                                                                                                                                                                                                                                                       [perfect, for, kids, adults, and, everyone, in, between]\n",
       "3146                                                                                                                                                                                                                                                                                                                                                                      [listening, to, music, searching, locations, checking, time, looking, up, weather, there, are, many, more, task, to, learn, it, was, simple, to, set, up]\n",
       "3147    [i, do, love, these, things, i, have, them, running, my, entire, home, tv, all, my, lights, my, thermostat, my, front, door, dead, bolt, the, cameras, and, i, love, listening, to, npr, these, things, are, well, worth, the, value, and, they, really, shine, once, you, stat, adding, smart, devices, and, you, can, control, your, entire, home, like, its, right, out, of, star, trek, i, named, mine, computer, to, get, the, feel, but, its, amazing, what, you, can, do, with, these, devices, and, smart, systems]\n",
       "3148                                                               [only, complaint, i, have, is, that, the, sound, quality, isnt, great, i, mostly, use, it, for, commands, though, and, i, have, another, dot, hooked, up, to, my, stereo, system, to, play, music, through, i, have, a, couple, friends, that, have, a, dot, and, dont, mind, the, audio, quality, but, if, youre, bothered, by, that, kind, of, thing, id, go, with, the, full, size, echo, or, make, sure, you, hook, the, do, up, to, some, larger, speakers]\n",
       "3149                                                                                                                                                                                                                                                                                                                                                                                                                                                                                                                         [good]\n",
       "Name: clean_r, Length: 3150, dtype: object"
      ]
     },
     "execution_count": 34,
     "metadata": {},
     "output_type": "execute_result"
    }
   ],
   "source": [
    "import nltk\n",
    "from nltk.tokenize import word_tokenize\n",
    "\n",
    "def tokenization(text):\n",
    "    tokens=word_tokenize(text)\n",
    "    return tokens\n",
    "\n",
    "df['clean_r']=df['clean_r'].apply(lambda txt: tokenization(txt))\n",
    "df['clean_r']"
   ]
  },
  {
   "cell_type": "code",
   "execution_count": 35,
   "metadata": {},
   "outputs": [
    {
     "data": {
      "text/plain": [
       "0                                                                                                                                                                                                                                                                                                             [love, echo]\n",
       "1                                                                                                                                                                                                                                                                                                                  [loved]\n",
       "2                                                                                                                                                                                          [sometimes, playing, game, answer, question, correctly, alexa, says, got, wrong, answers, like, able, turn, lights, away, home]\n",
       "3                                                                                                                                                                                      [lot, fun, thing, 4, yr, old, learns, dinosaurs, control, lights, play, games, like, categories, nice, sound, playing, music, well]\n",
       "4                                                                                                                                                                                                                                                                                                                  [music]\n",
       "                                                                                                                                                               ...                                                                                                                                                        \n",
       "3145                                                                                                                                                                                                                                                                                     [perfect, kids, adults, everyone]\n",
       "3146                                                                                                                                                                                                            [listening, music, searching, locations, checking, time, looking, weather, many, task, learn, simple, set]\n",
       "3147    [love, things, running, entire, home, tv, lights, thermostat, front, door, dead, bolt, cameras, love, listening, npr, things, well, worth, value, really, shine, stat, adding, smart, devices, control, entire, home, like, right, star, trek, named, mine, computer, get, feel, amazing, devices, smart, systems]\n",
       "3148                                              [complaint, sound, quality, isnt, great, mostly, use, commands, though, another, dot, hooked, stereo, system, play, music, couple, friends, dot, dont, mind, audio, quality, youre, bothered, kind, thing, id, go, full, size, echo, make, sure, hook, larger, speakers]\n",
       "3149                                                                                                                                                                                                                                                                                                                [good]\n",
       "Name: clean_r, Length: 3150, dtype: object"
      ]
     },
     "execution_count": 35,
     "metadata": {},
     "output_type": "execute_result"
    }
   ],
   "source": [
    "from nltk.corpus import stopwords\n",
    "\n",
    "stopword_list=stopwords.words('english')\n",
    "\n",
    "def r_stopwords(text):\n",
    "    text=[word for word in text if word not in stopword_list]\n",
    "    return text\n",
    "\n",
    "df['clean_r']=df['clean_r'].apply(lambda txt: r_stopwords(txt))\n",
    "df['clean_r']"
   ]
  },
  {
   "cell_type": "code",
   "execution_count": 7,
   "metadata": {},
   "outputs": [
    {
     "name": "stderr",
     "output_type": "stream",
     "text": [
      "[nltk_data] Downloading package wordnet to\n",
      "[nltk_data]     C:\\Users\\Shreeyash\\AppData\\Roaming\\nltk_data...\n",
      "[nltk_data]   Package wordnet is already up-to-date!\n"
     ]
    },
    {
     "data": {
      "text/plain": [
       "True"
      ]
     },
     "execution_count": 7,
     "metadata": {},
     "output_type": "execute_result"
    }
   ],
   "source": [
    "nltk.download('wordnet')"
   ]
  },
  {
   "cell_type": "code",
   "execution_count": 36,
   "metadata": {},
   "outputs": [
    {
     "data": {
      "text/plain": [
       "0                                                                                                                                                                                                                                                                                [love, echo]\n",
       "1                                                                                                                                                                                                                                                                                      [love]\n",
       "2                                                                                                                                                                      [sometim, play, game, answer, question, correctli, alexa, say, got, wrong, answer, like, abl, turn, light, away, home]\n",
       "3                                                                                                                                                                  [lot, fun, thing, 4, yr, old, learn, dinosaur, control, light, play, game, like, categori, nice, sound, play, music, well]\n",
       "4                                                                                                                                                                                                                                                                                     [music]\n",
       "                                                                                                                                                ...                                                                                                                                          \n",
       "3145                                                                                                                                                                                                                                                           [perfect, kid, adult, everyon]\n",
       "3146                                                                                                                                                                                                [listen, music, search, locat, check, time, look, weather, mani, task, learn, simpl, set]\n",
       "3147    [love, thing, run, entir, home, tv, light, thermostat, front, door, dead, bolt, camera, love, listen, npr, thing, well, worth, valu, realli, shine, stat, ad, smart, devic, control, entir, home, like, right, star, trek, name, mine, comput, get, feel, amaz, devic, smart, system]\n",
       "3148                            [complaint, sound, qualiti, isnt, great, mostli, use, command, though, anoth, dot, hook, stereo, system, play, music, coupl, friend, dot, dont, mind, audio, qualiti, your, bother, kind, thing, id, go, full, size, echo, make, sure, hook, larger, speaker]\n",
       "3149                                                                                                                                                                                                                                                                                   [good]\n",
       "Name: stemmed, Length: 3150, dtype: object"
      ]
     },
     "execution_count": 36,
     "metadata": {},
     "output_type": "execute_result"
    }
   ],
   "source": [
    "from nltk.stem.porter import PorterStemmer\n",
    "ps=PorterStemmer()\n",
    "\n",
    "def stemmer(text):\n",
    "    text=[ps.stem(word) for word in text]\n",
    "    return text\n",
    "\n",
    "df['stemmed']=df['clean_r'].apply(lambda txt: stemmer(txt))\n",
    "df['stemmed']"
   ]
  },
  {
   "cell_type": "code",
   "execution_count": 37,
   "metadata": {},
   "outputs": [
    {
     "data": {
      "text/plain": [
       "0                                                                                                                                                                                                                                                                                                      [love, echo]\n",
       "1                                                                                                                                                                                                                                                                                                           [loved]\n",
       "2                                                                                                                                                                                      [sometimes, playing, game, answer, question, correctly, alexa, say, got, wrong, answer, like, able, turn, light, away, home]\n",
       "3                                                                                                                                                                                    [lot, fun, thing, 4, yr, old, learns, dinosaur, control, light, play, game, like, category, nice, sound, playing, music, well]\n",
       "4                                                                                                                                                                                                                                                                                                           [music]\n",
       "                                                                                                                                                           ...                                                                                                                                                     \n",
       "3145                                                                                                                                                                                                                                                                                [perfect, kid, adult, everyone]\n",
       "3146                                                                                                                                                                                                      [listening, music, searching, location, checking, time, looking, weather, many, task, learn, simple, set]\n",
       "3147    [love, thing, running, entire, home, tv, light, thermostat, front, door, dead, bolt, camera, love, listening, npr, thing, well, worth, value, really, shine, stat, adding, smart, device, control, entire, home, like, right, star, trek, named, mine, computer, get, feel, amazing, device, smart, system]\n",
       "3148                                          [complaint, sound, quality, isnt, great, mostly, use, command, though, another, dot, hooked, stereo, system, play, music, couple, friend, dot, dont, mind, audio, quality, youre, bothered, kind, thing, id, go, full, size, echo, make, sure, hook, larger, speaker]\n",
       "3149                                                                                                                                                                                                                                                                                                         [good]\n",
       "Name: lemmatized, Length: 3150, dtype: object"
      ]
     },
     "execution_count": 37,
     "metadata": {},
     "output_type": "execute_result"
    }
   ],
   "source": [
    "from nltk.stem import WordNetLemmatizer\n",
    "wl=WordNetLemmatizer()\n",
    "\n",
    "def lemmatizer(text):\n",
    "    text=[wl.lemmatize(word) for word in text]\n",
    "    return text\n",
    "\n",
    "df['lemmatized']=df['clean_r'].apply(lambda txt: lemmatizer(txt))\n",
    "df['lemmatized']"
   ]
  },
  {
   "cell_type": "code",
   "execution_count": 38,
   "metadata": {},
   "outputs": [
    {
     "data": {
      "text/html": [
       "<div>\n",
       "<style scoped>\n",
       "    .dataframe tbody tr th:only-of-type {\n",
       "        vertical-align: middle;\n",
       "    }\n",
       "\n",
       "    .dataframe tbody tr th {\n",
       "        vertical-align: top;\n",
       "    }\n",
       "\n",
       "    .dataframe thead th {\n",
       "        text-align: right;\n",
       "    }\n",
       "</style>\n",
       "<table border=\"1\" class=\"dataframe\">\n",
       "  <thead>\n",
       "    <tr style=\"text-align: right;\">\n",
       "      <th></th>\n",
       "      <th>verified_reviews</th>\n",
       "      <th>clean_r</th>\n",
       "      <th>stemmed</th>\n",
       "      <th>lemmatized</th>\n",
       "    </tr>\n",
       "  </thead>\n",
       "  <tbody>\n",
       "    <tr>\n",
       "      <th>0</th>\n",
       "      <td>Love my Echo!</td>\n",
       "      <td>[love, echo]</td>\n",
       "      <td>[love, echo]</td>\n",
       "      <td>[love, echo]</td>\n",
       "    </tr>\n",
       "    <tr>\n",
       "      <th>1</th>\n",
       "      <td>Loved it!</td>\n",
       "      <td>[loved]</td>\n",
       "      <td>[love]</td>\n",
       "      <td>[loved]</td>\n",
       "    </tr>\n",
       "    <tr>\n",
       "      <th>2</th>\n",
       "      <td>Sometimes while playing a game, you can answer a question correctly but Alexa says you got it wrong and answers the same as you.  I like being able to turn lights on and off while away from home.</td>\n",
       "      <td>[sometimes, playing, game, answer, question, correctly, alexa, says, got, wrong, answers, like, able, turn, lights, away, home]</td>\n",
       "      <td>[sometim, play, game, answer, question, correctli, alexa, say, got, wrong, answer, like, abl, turn, light, away, home]</td>\n",
       "      <td>[sometimes, playing, game, answer, question, correctly, alexa, say, got, wrong, answer, like, able, turn, light, away, home]</td>\n",
       "    </tr>\n",
       "    <tr>\n",
       "      <th>3</th>\n",
       "      <td>I have had a lot of fun with this thing. My 4 yr old learns about dinosaurs, i control the lights and play games like categories. Has nice sound when playing music as well.</td>\n",
       "      <td>[lot, fun, thing, 4, yr, old, learns, dinosaurs, control, lights, play, games, like, categories, nice, sound, playing, music, well]</td>\n",
       "      <td>[lot, fun, thing, 4, yr, old, learn, dinosaur, control, light, play, game, like, categori, nice, sound, play, music, well]</td>\n",
       "      <td>[lot, fun, thing, 4, yr, old, learns, dinosaur, control, light, play, game, like, category, nice, sound, playing, music, well]</td>\n",
       "    </tr>\n",
       "    <tr>\n",
       "      <th>4</th>\n",
       "      <td>Music</td>\n",
       "      <td>[music]</td>\n",
       "      <td>[music]</td>\n",
       "      <td>[music]</td>\n",
       "    </tr>\n",
       "    <tr>\n",
       "      <th>5</th>\n",
       "      <td>I received the echo as a gift. I needed another Bluetooth or something to play music easily accessible, and found this smart speaker. Can’t wait to see what else it can do.</td>\n",
       "      <td>[received, echo, gift, needed, another, bluetooth, something, play, music, easily, accessible, found, smart, speaker, ’, wait, see, else]</td>\n",
       "      <td>[receiv, echo, gift, need, anoth, bluetooth, someth, play, music, easili, access, found, smart, speaker, ’, wait, see, els]</td>\n",
       "      <td>[received, echo, gift, needed, another, bluetooth, something, play, music, easily, accessible, found, smart, speaker, ’, wait, see, else]</td>\n",
       "    </tr>\n",
       "    <tr>\n",
       "      <th>6</th>\n",
       "      <td>Without having a cellphone, I cannot use many of her features. I have an iPad but do not see that of any use.  It IS a great alarm.  If u r almost deaf, you can hear her alarm in the bedroom from out in the living room, so that is reason enough to keep her.It is fun to ask random questions to hear her response.  She does not seem to be very smartbon politics yet.</td>\n",
       "      <td>[without, cellphone, use, many, features, ipad, see, use, great, alarm, u, r, almost, deaf, hear, alarm, bedroom, living, room, reason, enough, keep, herit, fun, ask, random, questions, hear, response, seem, smartbon, politics, yet]</td>\n",
       "      <td>[without, cellphon, use, mani, featur, ipad, see, use, great, alarm, u, r, almost, deaf, hear, alarm, bedroom, live, room, reason, enough, keep, herit, fun, ask, random, question, hear, respons, seem, smartbon, polit, yet]</td>\n",
       "      <td>[without, cellphone, use, many, feature, ipad, see, use, great, alarm, u, r, almost, deaf, hear, alarm, bedroom, living, room, reason, enough, keep, herit, fun, ask, random, question, hear, response, seem, smartbon, politics, yet]</td>\n",
       "    </tr>\n",
       "    <tr>\n",
       "      <th>7</th>\n",
       "      <td>I think this is the 5th one I've purchased. I'm working on getting one in every room of my house. I really like what features they offer specifily playing music on all Echos and controlling the lights throughout my house.</td>\n",
       "      <td>[think, 5th, one, ive, purchased, im, working, getting, one, every, room, house, really, like, features, offer, specifily, playing, music, echos, controlling, lights, throughout, house]</td>\n",
       "      <td>[think, 5th, one, ive, purchas, im, work, get, one, everi, room, hous, realli, like, featur, offer, specifili, play, music, echo, control, light, throughout, hous]</td>\n",
       "      <td>[think, 5th, one, ive, purchased, im, working, getting, one, every, room, house, really, like, feature, offer, specifily, playing, music, echo, controlling, light, throughout, house]</td>\n",
       "    </tr>\n",
       "    <tr>\n",
       "      <th>8</th>\n",
       "      <td>looks great</td>\n",
       "      <td>[looks, great]</td>\n",
       "      <td>[look, great]</td>\n",
       "      <td>[look, great]</td>\n",
       "    </tr>\n",
       "    <tr>\n",
       "      <th>9</th>\n",
       "      <td>Love it! I’ve listened to songs I haven’t heard since childhood! I get the news, weather, information! It’s great!</td>\n",
       "      <td>[love, ’, listened, songs, ’, heard, since, childhood, get, news, weather, information, ’, great]</td>\n",
       "      <td>[love, ’, listen, song, ’, heard, sinc, childhood, get, news, weather, inform, ’, great]</td>\n",
       "      <td>[love, ’, listened, song, ’, heard, since, childhood, get, news, weather, information, ’, great]</td>\n",
       "    </tr>\n",
       "  </tbody>\n",
       "</table>\n",
       "</div>"
      ],
      "text/plain": [
       "                                                                                                                                                                                                                                                                                                                                                                verified_reviews  \\\n",
       "0                                                                                                                                                                                                                                                                                                                                                                  Love my Echo!   \n",
       "1                                                                                                                                                                                                                                                                                                                                                                      Loved it!   \n",
       "2                                                                                                                                                                            Sometimes while playing a game, you can answer a question correctly but Alexa says you got it wrong and answers the same as you.  I like being able to turn lights on and off while away from home.   \n",
       "3                                                                                                                                                                                                   I have had a lot of fun with this thing. My 4 yr old learns about dinosaurs, i control the lights and play games like categories. Has nice sound when playing music as well.   \n",
       "4                                                                                                                                                                                                                                                                                                                                                                          Music   \n",
       "5                                                                                                                                                                                                   I received the echo as a gift. I needed another Bluetooth or something to play music easily accessible, and found this smart speaker. Can’t wait to see what else it can do.   \n",
       "6  Without having a cellphone, I cannot use many of her features. I have an iPad but do not see that of any use.  It IS a great alarm.  If u r almost deaf, you can hear her alarm in the bedroom from out in the living room, so that is reason enough to keep her.It is fun to ask random questions to hear her response.  She does not seem to be very smartbon politics yet.   \n",
       "7                                                                                                                                                  I think this is the 5th one I've purchased. I'm working on getting one in every room of my house. I really like what features they offer specifily playing music on all Echos and controlling the lights throughout my house.   \n",
       "8                                                                                                                                                                                                                                                                                                                                                                    looks great   \n",
       "9                                                                                                                                                                                                                                                             Love it! I’ve listened to songs I haven’t heard since childhood! I get the news, weather, information! It’s great!   \n",
       "\n",
       "                                                                                                                                                                                                                                    clean_r  \\\n",
       "0                                                                                                                                                                                                                              [love, echo]   \n",
       "1                                                                                                                                                                                                                                   [loved]   \n",
       "2                                                                                                           [sometimes, playing, game, answer, question, correctly, alexa, says, got, wrong, answers, like, able, turn, lights, away, home]   \n",
       "3                                                                                                       [lot, fun, thing, 4, yr, old, learns, dinosaurs, control, lights, play, games, like, categories, nice, sound, playing, music, well]   \n",
       "4                                                                                                                                                                                                                                   [music]   \n",
       "5                                                                                                 [received, echo, gift, needed, another, bluetooth, something, play, music, easily, accessible, found, smart, speaker, ’, wait, see, else]   \n",
       "6  [without, cellphone, use, many, features, ipad, see, use, great, alarm, u, r, almost, deaf, hear, alarm, bedroom, living, room, reason, enough, keep, herit, fun, ask, random, questions, hear, response, seem, smartbon, politics, yet]   \n",
       "7                                                 [think, 5th, one, ive, purchased, im, working, getting, one, every, room, house, really, like, features, offer, specifily, playing, music, echos, controlling, lights, throughout, house]   \n",
       "8                                                                                                                                                                                                                            [looks, great]   \n",
       "9                                                                                                                                         [love, ’, listened, songs, ’, heard, since, childhood, get, news, weather, information, ’, great]   \n",
       "\n",
       "                                                                                                                                                                                                                          stemmed  \\\n",
       "0                                                                                                                                                                                                                    [love, echo]   \n",
       "1                                                                                                                                                                                                                          [love]   \n",
       "2                                                                                                          [sometim, play, game, answer, question, correctli, alexa, say, got, wrong, answer, like, abl, turn, light, away, home]   \n",
       "3                                                                                                      [lot, fun, thing, 4, yr, old, learn, dinosaur, control, light, play, game, like, categori, nice, sound, play, music, well]   \n",
       "4                                                                                                                                                                                                                         [music]   \n",
       "5                                                                                                     [receiv, echo, gift, need, anoth, bluetooth, someth, play, music, easili, access, found, smart, speaker, ’, wait, see, els]   \n",
       "6  [without, cellphon, use, mani, featur, ipad, see, use, great, alarm, u, r, almost, deaf, hear, alarm, bedroom, live, room, reason, enough, keep, herit, fun, ask, random, question, hear, respons, seem, smartbon, polit, yet]   \n",
       "7                                                             [think, 5th, one, ive, purchas, im, work, get, one, everi, room, hous, realli, like, featur, offer, specifili, play, music, echo, control, light, throughout, hous]   \n",
       "8                                                                                                                                                                                                                   [look, great]   \n",
       "9                                                                                                                                        [love, ’, listen, song, ’, heard, sinc, childhood, get, news, weather, inform, ’, great]   \n",
       "\n",
       "                                                                                                                                                                                                                               lemmatized  \n",
       "0                                                                                                                                                                                                                            [love, echo]  \n",
       "1                                                                                                                                                                                                                                 [loved]  \n",
       "2                                                                                                            [sometimes, playing, game, answer, question, correctly, alexa, say, got, wrong, answer, like, able, turn, light, away, home]  \n",
       "3                                                                                                          [lot, fun, thing, 4, yr, old, learns, dinosaur, control, light, play, game, like, category, nice, sound, playing, music, well]  \n",
       "4                                                                                                                                                                                                                                 [music]  \n",
       "5                                                                                               [received, echo, gift, needed, another, bluetooth, something, play, music, easily, accessible, found, smart, speaker, ’, wait, see, else]  \n",
       "6  [without, cellphone, use, many, feature, ipad, see, use, great, alarm, u, r, almost, deaf, hear, alarm, bedroom, living, room, reason, enough, keep, herit, fun, ask, random, question, hear, response, seem, smartbon, politics, yet]  \n",
       "7                                                  [think, 5th, one, ive, purchased, im, working, getting, one, every, room, house, really, like, feature, offer, specifily, playing, music, echo, controlling, light, throughout, house]  \n",
       "8                                                                                                                                                                                                                           [look, great]  \n",
       "9                                                                                                                                        [love, ’, listened, song, ’, heard, since, childhood, get, news, weather, information, ’, great]  "
      ]
     },
     "execution_count": 38,
     "metadata": {},
     "output_type": "execute_result"
    }
   ],
   "source": [
    "df2=df.drop(['date','rating','variation','feedback'],axis=1)\n",
    "df2.head(10)"
   ]
  },
  {
   "cell_type": "code",
   "execution_count": 51,
   "metadata": {},
   "outputs": [
    {
     "name": "stdout",
     "output_type": "stream",
     "text": [
      "[[0 0 0 ... 0 0 0]\n",
      " [0 0 0 ... 0 0 0]\n",
      " [0 0 0 ... 0 0 0]\n",
      " ...\n",
      " [0 0 0 ... 0 0 0]\n",
      " [0 0 0 ... 0 0 0]\n",
      " [0 0 0 ... 0 0 0]]\n"
     ]
    }
   ],
   "source": [
    "from sklearn.feature_extraction.text import CountVectorizer\n",
    "\n",
    "reviews = df2['verified_reviews']\n",
    "vectorizer = CountVectorizer()\n",
    "word_vectors = vectorizer.fit_transform(reviews)\n",
    "print(word_vectors.toarray())"
   ]
  },
  {
   "cell_type": "code",
   "execution_count": 53,
   "metadata": {},
   "outputs": [
    {
     "name": "stdout",
     "output_type": "stream",
     "text": [
      "[[0. 0. 0. ... 0. 0. 0.]\n",
      " [0. 0. 0. ... 0. 0. 0.]\n",
      " [0. 0. 0. ... 0. 0. 0.]\n",
      " ...\n",
      " [0. 0. 0. ... 0. 0. 0.]\n",
      " [0. 0. 0. ... 0. 0. 0.]\n",
      " [0. 0. 0. ... 0. 0. 0.]]\n"
     ]
    }
   ],
   "source": [
    "from sklearn.feature_extraction.text import TfidfVectorizer\n",
    "\n",
    "reviews = df2['verified_reviews']\n",
    "vectorizer = TfidfVectorizer()\n",
    "tfidf_vectors = vectorizer.fit_transform(reviews)\n",
    "# feature_names = vectorizer.get_feature_names()\n",
    "print(tfidf_vectors.toarray())\n",
    "# print(feature_names)"
   ]
  },
  {
   "cell_type": "code",
   "execution_count": null,
   "metadata": {},
   "outputs": [],
   "source": []
  }
 ],
 "metadata": {
  "kernelspec": {
   "display_name": "Python 3",
   "language": "python",
   "name": "python3"
  },
  "language_info": {
   "codemirror_mode": {
    "name": "ipython",
    "version": 3
   },
   "file_extension": ".py",
   "mimetype": "text/x-python",
   "name": "python",
   "nbconvert_exporter": "python",
   "pygments_lexer": "ipython3",
   "version": "3.11.0"
  },
  "orig_nbformat": 4
 },
 "nbformat": 4,
 "nbformat_minor": 2
}
